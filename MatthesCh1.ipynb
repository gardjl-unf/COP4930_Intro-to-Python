{
  "nbformat": 4,
  "nbformat_minor": 0,
  "metadata": {
    "colab": {
      "provenance": []
    },
    "kernelspec": {
      "name": "python3",
      "display_name": "Python 3"
    },
    "language_info": {
      "name": "python"
    }
  },
  "cells": [
    {
      "cell_type": "markdown",
      "source": [
        "#**Chapter1** Getting Started#\n",
        "\n",
        "* Introduce ourselves\n",
        "* Talk about syllabus\n",
        "* Get your tools ready: Colab, etc.\n",
        ">The mechanic, who wishes to do his work well, must first sharpen his tools.\n",
        ">--*Confucius*"
      ],
      "metadata": {
        "id": "Ym1X8_C-95Kz"
      }
    },
    {
      "cell_type": "markdown",
      "source": [
        "##1. Why Learning Python?##\n",
        "\n",
        "* [IEEE Spectrum](https://spectrum.ieee.org/top-programming-languages-2022) ranks Python #1 six years in a row!\n",
        "  * \"an object-oriented, interpreted language that gains much of its power from a large constellation of libraries, including popular modules for machine learning and scientific computing.\"\n",
        "  * Interpreted, open source, dynamic typing, vibrant community.\n",
        "  * Relatively easy to pick up(, but can be sneaky at times).\n",
        "  * Hundreds of packages available such as matplotlib, pandas, numpy, scipy, and sklearn.\n",
        "\n",
        "<img src='https://drive.google.com/uc?export=view&id=1UpGxBK7CxlNwfdOPy_K-XAsfWPMPicI0' width=\"600\">\n"
      ],
      "metadata": {
        "id": "OAOdcQ8-sVGj"
      }
    },
    {
      "cell_type": "markdown",
      "source": [
        "##2. Writing and Executing Python Programs##\n",
        "* Our official programming environment is Google Colab: online Python IDE, free of installation, notebook style to show running results and graphics.\n",
        "* There are many other editors we can use to write Python programs: Colab, Jupyter Notebook, Sublime, PyCharm, Vim, WordPad, any text editor basically.\n",
        "  * Jupter Notebook is the local version of Colab.\n",
        "* To execute Python programs, a Python interpreter is needed.\n",
        "  * Some of those editors have built-in Python interpreter such as Colab, Jupyter Notebook, and PyCharm.  We call them IDEs.\n",
        "  * Other text editors do not, such as Vim and WordPad. But we can invoke Python interpreter on the command line, just like *gcc* for C and *javac* for Java."
      ],
      "metadata": {
        "id": "V7SzFdseovZh"
      }
    },
    {
      "cell_type": "markdown",
      "source": [
        "###2.1 Using Colab(oratory)###\n",
        "According to Google Colab's [FAQ page](https://research.google.com/colaboratory/faq.html), Colab allows anybody to write and execute arbitrary python code through the browser, and is especially well suited to machine learning, data analysis and education.  More technically, Colab is a hosted Jupyter notebook service that requires no setup to use, while providing access free of charge to computing resources including GPUs.\n",
        "\n",
        "The Colab [welcome page](https://colab.research.google.com) when you log in is a great place to get familiar with Colab.  Now let's explore."
      ],
      "metadata": {
        "id": "D-RD1OEcSX0q"
      }
    },
    {
      "cell_type": "code",
      "source": [
        "print(\"Hello, world!\")"
      ],
      "metadata": {
        "colab": {
          "base_uri": "https://localhost:8080/"
        },
        "id": "EOlAdwv1oUlY",
        "outputId": "091ff32a-43e3-4845-b9c0-9fd02fd8b3e9"
      },
      "execution_count": null,
      "outputs": [
        {
          "output_type": "stream",
          "name": "stdout",
          "text": [
            "Hello, world!\n"
          ]
        }
      ]
    },
    {
      "cell_type": "markdown",
      "source": [
        "###2.2 Using Jupyter Notebook###\n",
        "* Colab is the online version of it.\n",
        "* Python interpreter should already be installed.\n",
        "  * We learn Python 3.\n",
        "  * To see your Python version, go to command line and run `python -V` command.\n",
        "  * Any Python 3 version should be fine, but if you aret to install it on your computer, the most recent [Python 3.11](https://www.python.org/downloads/release/python-3110/) is preferred.\n",
        "* Python package manage *pip* is installed with Python.\n",
        "* You now may install __Juptyer Notebook__ using pip on command line: `pip install notebook`.\n",
        "* Once installed, launch it on command line via `juptyer notebook`.\n",
        "  * In Windows Prompt, run `python -m notebook`.\n",
        "\n",
        "<img src='https://drive.google.com/uc?export=view&id=1tTqs2vYfI0_36S6PrXZrWDAuywGQ2TPO' width=\"600\">\n",
        "\n",
        "* In Jupyter Notebook, you can open *.ipynb* files just like this one, but all locally.\n",
        "\n",
        "<img src='https://drive.google.com/uc?export=view&id=1XssFxafRj6jdBGlkpvVP3n2cANPvCiVI' width=\"600\">"
      ],
      "metadata": {
        "id": "rEWWsGtBsz_3"
      }
    },
    {
      "cell_type": "code",
      "source": [
        "# What if there is error?\n",
        "print \"Hello, world!\"  # This actually was the Python 2 way to call print, but\n",
        "                       # wrong in Python 3."
      ],
      "metadata": {
        "colab": {
          "base_uri": "https://localhost:8080/",
          "height": 130
        },
        "outputId": "624957b0-ddc8-4dce-f5ae-0e5da5bf0ecf",
        "id": "RWjysr-IXCIz"
      },
      "execution_count": null,
      "outputs": [
        {
          "output_type": "error",
          "ename": "SyntaxError",
          "evalue": "ignored",
          "traceback": [
            "\u001b[0;36m  File \u001b[0;32m\"<ipython-input-2-0d847aae8d55>\"\u001b[0;36m, line \u001b[0;32m2\u001b[0m\n\u001b[0;31m    print \"Hello, world!\"  # This actually was the Python 2 way to call print, but\u001b[0m\n\u001b[0m          ^\u001b[0m\n\u001b[0;31mSyntaxError\u001b[0m\u001b[0;31m:\u001b[0m Missing parentheses in call to 'print'. Did you mean print(\"Hello, world!\"  # This actually was the Python 2 way to call print, but)?\n"
          ]
        }
      ]
    },
    {
      "cell_type": "markdown",
      "source": [
        "###2.3 Using and Running Python Interpreter on Command Line###\n",
        "On command line, type `python` to use Python interpreter interactively.\n",
        "Here is how it looks like on my Mac:\n",
        "\n",
        "<img src='https://drive.google.com/uc?export=view&id=1CYy2Rm-jNU_vyfbGDVI5wZylU_hVNeyL' width=\"500\">\n",
        "\n",
        "Open any text editor and write \n",
        "`print(\"Hello, world!\")` and the other \n",
        "three lines of code as shown in the above image, \n",
        "and save it as *hello_world.py*.  \n",
        "Now we can use Python interpreter on command line \n",
        "to compile and run it via command `python hello_world.py`.  Here is what we see:\n",
        "\n",
        "<img src='https://drive.google.com/uc?export=view&id=1qK9ZBFOPh95dLKtvKxc7-pm9YJoI-vlU' width=\"400\">\n",
        "\n",
        "Below we see a bit more complex Python code cell.  It shows how to run command line tools, how to create a simply class called Person and a list of Person objects, and finally how to iterate the list.\n",
        "We will learn these in much details in the next few weeks.\n",
        "\n",
        "Now, go to File -> Download -> Download .ipynb, you will have a local copy of this notebook.  If you go to File -> Download -> Download .py, you will save a .py file.  Open it you will see all text cells become comments and all code cells preserve as is.  Now, execute `python MatthesCh1.py` and see what happens."
      ],
      "metadata": {
        "id": "jGJCeT59zHex"
      }
    },
    {
      "cell_type": "code",
      "execution_count": null,
      "metadata": {
        "colab": {
          "base_uri": "https://localhost:8080/"
        },
        "id": "7iC-YbSM9fej",
        "outputId": "fb72f7d6-e434-4df0-c351-58efc882c688"
      },
      "outputs": [
        {
          "output_type": "stream",
          "name": "stdout",
          "text": [
            "Python 3.8.16\n",
            "Python 3.8.16\n",
            "pip 22.0.4 from /usr/local/lib/python3.8/dist-packages/pip (python 3.8)\n",
            "Hello, my name is Alice Johnson\n",
            "Hello, my name is Bob King\n"
          ]
        }
      ],
      "source": [
        "# In colab you can run commands by appending ! in front of it\n",
        "!python --version\n",
        "!python -V\n",
        "!pip -V\n",
        "\n",
        "# Like Java, Python is object-oriented\n",
        "class Person:\n",
        "  def __init__(self, first, last):\n",
        "    self.first = first\n",
        "    self.last = last\n",
        "  \n",
        "  def greet(self):\n",
        "    print(f\"Hello, my name is {self.first} {self.last}\")\n",
        "\n",
        "# Create a list of Person objects\n",
        "persons = [Person('Alice', 'Johnson'), Person('Bob', 'King')]\n",
        "for person in persons:  # iterate list\n",
        "  person.greet()\n"
      ]
    }
  ]
}