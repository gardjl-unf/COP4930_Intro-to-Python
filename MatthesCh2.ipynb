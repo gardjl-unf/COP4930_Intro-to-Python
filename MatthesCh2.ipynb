{
  "nbformat": 4,
  "nbformat_minor": 0,
  "metadata": {
    "colab": {
      "provenance": []
    },
    "kernelspec": {
      "name": "python3",
      "display_name": "Python 3"
    },
    "language_info": {
      "name": "python"
    }
  },
  "cells": [
    {
      "cell_type": "markdown",
      "source": [
        "# 1. Variables\n",
        "A variable, similar a label or a sticker or a Java reference variable, is connected to a value object.\n",
        "\n",
        "An object can be of in general two categories: scalar\n",
        "types (e.g., int and float) and non-scalar types (e.g., str and function).  There are five scalar types:\n",
        "* int: integer objects\n",
        "* float: real numbers\n",
        "* complex: complex numbers (e.g., 4+7j)\n",
        "* bool: Boolean values True and False\n",
        "* NoneType: only one value None"
      ],
      "metadata": {
        "id": "84UOwFzaeQvw"
      }
    },
    {
      "cell_type": "code",
      "source": [
        "# Scalar types\n",
        "fl_min_wage = 1100\n",
        "print(fl_min_wage)\n",
        "print(type(fl_min_wage))\n",
        "\n",
        "jax_sales_tax = 0.075\n",
        "print(jax_sales_tax)\n",
        "print(type(jax_sales_tax))\n",
        "\n",
        "circut = complex(4, 7)\n",
        "print(circut)\n",
        "print(type(circut))\n",
        "\n",
        "python_is_fun = True\n",
        "print(python_is_fun)\n",
        "print(type(python_is_fun))\n",
        "\n",
        "result = None\n",
        "print(result)\n",
        "print(type(result))\n",
        "\n",
        "# Non-scalar types\n",
        "message = \"Hello!\"\n",
        "print(message)\n",
        "print(type(message))\n",
        "\n",
        "def greet():\n",
        "    print(\"Hi!\")\n",
        "print(type(greet))"
      ],
      "metadata": {
        "colab": {
          "base_uri": "https://localhost:8080/"
        },
        "id": "e7XYL98El5vM",
        "outputId": "f09b168e-b6dc-4160-d931-a68dc0fa5a9b"
      },
      "execution_count": 1,
      "outputs": [
        {
          "output_type": "stream",
          "name": "stdout",
          "text": [
            "1100\n",
            "<class 'int'>\n",
            "0.075\n",
            "<class 'float'>\n",
            "(4+7j)\n",
            "<class 'complex'>\n",
            "True\n",
            "<class 'bool'>\n",
            "None\n",
            "<class 'NoneType'>\n",
            "Hello!\n",
            "<class 'str'>\n",
            "<class 'function'>\n"
          ]
        }
      ]
    },
    {
      "cell_type": "markdown",
      "source": [
        "## 1.1 Naming and Using Variables\n",
        "Keep the following rules in mind when naming your variables:\n",
        "* Variable names can contain only letters, numbers, and underscores. They can start with a letter or an underscore, but not with a number.  E.g., message_1 but not 1_message.\n",
        "* Spaces are not allowed in variable names, but underscores can be used to separate words in variable names. For example, greeting_message works, but greeting message will cause errors.\n",
        "* Avoid using Python keywords, i.e., words that Python has reserved, such as the word print.\n",
        "* Variable names should be short but descriptive. For example, name is better than n, student_name is better than s_n, and name_length is better than length_of_persons_name."
      ],
      "metadata": {
        "id": "xMYm2xQNpHat"
      }
    },
    {
      "cell_type": "code",
      "source": [
        "message = \"Hello Python world!\"\n",
        "print(mesage)"
      ],
      "metadata": {
        "colab": {
          "base_uri": "https://localhost:8080/",
          "height": 184
        },
        "id": "F4KOC9UJqnZQ",
        "outputId": "6cee367f-115d-49df-e80f-a267b3e46a3a"
      },
      "execution_count": 2,
      "outputs": [
        {
          "output_type": "error",
          "ename": "NameError",
          "evalue": "ignored",
          "traceback": [
            "\u001b[0;31m---------------------------------------------------------------------------\u001b[0m",
            "\u001b[0;31mNameError\u001b[0m                                 Traceback (most recent call last)",
            "\u001b[0;32m<ipython-input-2-b49f1dbb3085>\u001b[0m in \u001b[0;36m<module>\u001b[0;34m\u001b[0m\n\u001b[1;32m      1\u001b[0m \u001b[0mmessage\u001b[0m \u001b[0;34m=\u001b[0m \u001b[0;34m\"Hello Python world!\"\u001b[0m\u001b[0;34m\u001b[0m\u001b[0;34m\u001b[0m\u001b[0m\n\u001b[0;32m----> 2\u001b[0;31m \u001b[0mprint\u001b[0m\u001b[0;34m(\u001b[0m\u001b[0mmesage\u001b[0m\u001b[0;34m)\u001b[0m\u001b[0;34m\u001b[0m\u001b[0;34m\u001b[0m\u001b[0m\n\u001b[0m",
            "\u001b[0;31mNameError\u001b[0m: name 'mesage' is not defined"
          ]
        }
      ]
    },
    {
      "cell_type": "markdown",
      "source": [
        "## 1.2 __Much better to think of variables in Python as labels or stickers put to refer to objects__\n",
        "What assignments (=) do essentially is to put labels on data objects.\n",
        "Every object has an identity (similar to an address or reference) and we can use the built-in id function to get it.\n",
        "\n",
        "<img src='https://drive.google.com/uc?export=view&id=1i8FtpSqtb8ByaDiFqr6b_BSU2McQwWoR' width=\"400\">"
      ],
      "metadata": {
        "id": "oBhmTXjZsd9Z"
      }
    },
    {
      "cell_type": "code",
      "source": [
        "print(id(65))\n",
        "print(id(\"Hello\"))\n",
        "\n",
        "national_champion = \"Georgia\"     # str object \"Georgia\" is created and its\n",
        "                                  # identity is passed to label national_champion\n",
        "\n",
        "print(national_champion)          # printing the label prints the object it labels\n",
        "\n",
        "print(id(national_champion))      # use id function to print the identity of the\n",
        "                                  # object the label points to\n",
        "\n",
        "sec_champion = national_champion  # national_champion and sec_champion are two\n",
        "                                  # labels to the same str object \"Georgia\"\n",
        "print(id(sec_champion))\n"
      ],
      "metadata": {
        "colab": {
          "base_uri": "https://localhost:8080/"
        },
        "id": "trtsEbn1tGt1",
        "outputId": "aeff2d74-e11e-4227-90bd-5d4262d4f2ed"
      },
      "execution_count": 3,
      "outputs": [
        {
          "output_type": "stream",
          "name": "stdout",
          "text": [
            "9795136\n",
            "140609520950960\n",
            "Georgia\n",
            "140609491468400\n",
            "140609491468400\n"
          ]
        }
      ]
    },
    {
      "cell_type": "markdown",
      "source": [
        "# 2. Strings\n",
        "A string is a series of characters. Anything inside quotes is considered a string in Python, and you can use single or double quotes around your strings.\n",
        "This flexibility allows you to use quotes and apostrophes within your strings."
      ],
      "metadata": {
        "id": "ji2DUUHhstj2"
      }
    },
    {
      "cell_type": "code",
      "source": [
        "s = \"This is a string\"\n",
        "s = 'This is a string'  # relabel s to another string object\n",
        "\n",
        "print('Juliet: \"Wherefore art thou Romeo?\"')    # no need to escape double quote\n",
        "print(\"Juliet: \\\"Wherefore art thou Romeo?\\\"\")  # has to escape\n",
        "print(\"Python's not a snake.\")                  # no need to escape single quote\n",
        "print('Python\\'s not a snake.')                 # has to escape"
      ],
      "metadata": {
        "colab": {
          "base_uri": "https://localhost:8080/"
        },
        "id": "JSmrESzRxnb3",
        "outputId": "ac270a5d-5f7c-4c11-aa7e-c6e8a674d2d1"
      },
      "execution_count": null,
      "outputs": [
        {
          "output_type": "stream",
          "name": "stdout",
          "text": [
            "Juliet: \"Wherefore art thou Romeo?\"\n",
            "Juliet: \"Wherefore art thou Romeo?\"\n",
            "Python's not a snake.\n",
            "Python's not a snake.\n"
          ]
        }
      ]
    },
    {
      "cell_type": "markdown",
      "source": [
        "## 2.1 Built-in Methods in String\n",
        "A method in Python is just a function except it is associated with a class or object and called via the selector operator (.)."
      ],
      "metadata": {
        "id": "MaDARTHo0sTF"
      }
    },
    {
      "cell_type": "code",
      "source": [
        "name = \"ada lovelace\"\n",
        "print(name.title())\n",
        "print(name.upper())\n",
        "print(name.lower())\n",
        "\n",
        "print(help(name.title))  # get to know what a built-in method does"
      ],
      "metadata": {
        "colab": {
          "base_uri": "https://localhost:8080/"
        },
        "id": "Qr1ArFS9zNWc",
        "outputId": "6767cf5b-07fa-43ff-d4b2-e2e110af1288"
      },
      "execution_count": 5,
      "outputs": [
        {
          "output_type": "stream",
          "name": "stdout",
          "text": [
            "Ada Lovelace\n",
            "ADA LOVELACE\n",
            "ada lovelace\n",
            "Help on built-in function title:\n",
            "\n",
            "title() method of builtins.str instance\n",
            "    Return a version of the string where each word is titlecased.\n",
            "    \n",
            "    More specifically, words start with uppercased characters and all remaining\n",
            "    cased characters have lower case.\n",
            "\n",
            "None\n"
          ]
        }
      ]
    },
    {
      "cell_type": "markdown",
      "source": [
        "##2.2 String Formatting and Using Variables in Strings"
      ],
      "metadata": {
        "id": "CHH743Le1ss8"
      }
    },
    {
      "cell_type": "code",
      "source": [
        "first_name = \"ada\"\n",
        "last_name = \"lovelace\"\n",
        "full_name = f\"{first_name} {last_name}\"  # f stands for format\n",
        "\n",
        "print(first_name, last_name)\n",
        "print(full_name)\n",
        "print(f\"Hello, {full_name.title()}!\")\n",
        "\n",
        "# also can use it like in C\n",
        "print(\"Hello, %s %s!\" % (first_name, last_name))\n",
        "pi = 3.1415926\n",
        "print(\"Pi: %5.2f\" % pi)\n",
        "\n",
        "# print without new line at end\n",
        "print(\"Hello, \", end=\"\")\n",
        "print(\"world!\")\n",
        "\n",
        "# tabs, new lines\n",
        "print(\"Languages:\\n\\tPython\\n\\tC\\n\\tJavaScript\")"
      ],
      "metadata": {
        "colab": {
          "base_uri": "https://localhost:8080/"
        },
        "id": "njvGI7xd1yiK",
        "outputId": "3fe2d607-126a-4f94-9c18-bf607bf434ab"
      },
      "execution_count": null,
      "outputs": [
        {
          "output_type": "stream",
          "name": "stdout",
          "text": [
            "ada lovelace\n",
            "ada lovelace\n",
            "Hello, Ada Lovelace!\n",
            "Hello, ada lovelace!\n",
            "Pi:  3.14\n",
            "Hello, world!\n",
            "Languages:\n",
            "\tPython\n",
            "\tC\n",
            "\tJavaScript\n"
          ]
        }
      ]
    },
    {
      "cell_type": "markdown",
      "source": [
        "## 2.3 Stripping Whitespace\n",
        "Whitespace characters can be spaces, tabs and new lines.  Stripping them from strings can be desirable.  Methods such as rstrip, lstrip and strip are provided to strip whitespace on the right side, left side and both sides, respectively."
      ],
      "metadata": {
        "id": "ppE-tdEZB-bm"
      }
    },
    {
      "cell_type": "code",
      "source": [
        "favorite_language = ' python '\n",
        "favorite_language = favorite_language.rstrip()\n",
        "print(favorite_language)\n",
        "favorite_language = favorite_language.lstrip()\n",
        "print(favorite_language)\n",
        "\n",
        "second_fav_language = '  Java   '\n",
        "second_fav_language = second_fav_language.strip()\n",
        "print(second_fav_language)\n",
        "\n",
        "print(help(favorite_language.rstrip))"
      ],
      "metadata": {
        "colab": {
          "base_uri": "https://localhost:8080/"
        },
        "id": "RHEthaI0Ce7h",
        "outputId": "0f15c638-c9f2-453f-bb78-c04cc3ba8f9a"
      },
      "execution_count": null,
      "outputs": [
        {
          "output_type": "stream",
          "name": "stdout",
          "text": [
            " python\n",
            "python\n",
            "Java\n",
            "Help on built-in function rstrip:\n",
            "\n",
            "rstrip(chars=None, /) method of builtins.str instance\n",
            "    Return a copy of the string with trailing whitespace removed.\n",
            "    \n",
            "    If chars is given and not None, remove characters in chars instead.\n",
            "\n",
            "None\n"
          ]
        }
      ]
    },
    {
      "cell_type": "markdown",
      "source": [
        "# 2. Numbers\n"
      ],
      "metadata": {
        "id": "xY6zEyrcDbtO"
      }
    },
    {
      "cell_type": "code",
      "source": [
        "# Integers\n",
        "sum = 2+3\n",
        "print(sum)\n",
        "minus = 12-41\n",
        "print(minus)\n",
        "mult = 34*54\n",
        "print(mult)\n",
        "div = 42/13\n",
        "print(div)\n",
        "exp = 4**2\n",
        "print(exp)\n",
        "\n",
        "# Floats\n",
        "print(2 * 0.2)\n",
        "print(0.2 + 0.1)  # ignore the extra decimal places for now\n",
        "\n",
        "# Underscores in numbers\n",
        "universe_age = 14_000_000_000  # don't have to group them in 3s\n",
        "print(universe_age)\n",
        "\n",
        "# Multiple assignment\n",
        "x, y, z = 1, 2, 3\n",
        "print(x, y, z)"
      ],
      "metadata": {
        "colab": {
          "base_uri": "https://localhost:8080/"
        },
        "id": "kxnV3fOuDjU1",
        "outputId": "2c826133-5027-4c72-b48b-c479bbf80737"
      },
      "execution_count": null,
      "outputs": [
        {
          "output_type": "stream",
          "name": "stdout",
          "text": [
            "5\n",
            "-29\n",
            "1836\n",
            "3.230769230769231\n",
            "16\n",
            "0.4\n",
            "0.30000000000000004\n",
            "14000000000\n",
            "1 2 3\n"
          ]
        }
      ]
    },
    {
      "cell_type": "markdown",
      "source": [
        "## 2.1 Constants\n",
        "A constant is like a variable whose value stays the same throughout the life of a program. Python doesn’t have built-in constant types, but Python pro- grammers use all capital letters to indicate a variable should be treated as a constant and never be changed."
      ],
      "metadata": {
        "id": "lK3rbEe3FHYi"
      }
    },
    {
      "cell_type": "code",
      "source": [
        "MAX_CONNECTIONS = 5000"
      ],
      "metadata": {
        "id": "zmS2tJTaFPM0"
      },
      "execution_count": null,
      "outputs": []
    },
    {
      "cell_type": "markdown",
      "source": [
        "# 3. Comments\n",
        "A comment allows you to write notes in English within your programs.\n",
        "Comments are for programmers to read.\n",
        "Python discard them at execution.\n",
        "It is important to write comments.\n",
        "\n",
        "The hash tag (#) indicates a comment that start from after hash tag to end of that line."
      ],
      "metadata": {
        "id": "kApz9Qq4FUhr"
      }
    },
    {
      "cell_type": "code",
      "source": [
        "# Say hello to everyone\n",
        "print(\"Hello Python people!\")"
      ],
      "metadata": {
        "colab": {
          "base_uri": "https://localhost:8080/"
        },
        "id": "IXQukN7kFq5A",
        "outputId": "f17650cc-0f10-4a51-97aa-ea3797f382cc"
      },
      "execution_count": null,
      "outputs": [
        {
          "output_type": "stream",
          "name": "stdout",
          "text": [
            "Hello Python people!\n"
          ]
        }
      ]
    },
    {
      "cell_type": "markdown",
      "source": [
        "#4. The Zen of Python\n",
        "Experienced Python programmers will encourage you to avoid complexity and aim for simplicity whenever possible. The Python community’s philosophy is contained in “The Zen of Python” by Tim Peters. You can access this brief set of principles for writing good Python code by entering import this into your interpreter."
      ],
      "metadata": {
        "id": "CAHzZGIIGUzc"
      }
    },
    {
      "cell_type": "code",
      "source": [
        "import this"
      ],
      "metadata": {
        "colab": {
          "base_uri": "https://localhost:8080/"
        },
        "id": "PFSFfWQxGgW8",
        "outputId": "f1068803-2a38-4ec3-8f0a-efd554fc2166"
      },
      "execution_count": 6,
      "outputs": [
        {
          "output_type": "stream",
          "name": "stdout",
          "text": [
            "The Zen of Python, by Tim Peters\n",
            "\n",
            "Beautiful is better than ugly.\n",
            "Explicit is better than implicit.\n",
            "Simple is better than complex.\n",
            "Complex is better than complicated.\n",
            "Flat is better than nested.\n",
            "Sparse is better than dense.\n",
            "Readability counts.\n",
            "Special cases aren't special enough to break the rules.\n",
            "Although practicality beats purity.\n",
            "Errors should never pass silently.\n",
            "Unless explicitly silenced.\n",
            "In the face of ambiguity, refuse the temptation to guess.\n",
            "There should be one-- and preferably only one --obvious way to do it.\n",
            "Although that way may not be obvious at first unless you're Dutch.\n",
            "Now is better than never.\n",
            "Although never is often better than *right* now.\n",
            "If the implementation is hard to explain, it's a bad idea.\n",
            "If the implementation is easy to explain, it may be a good idea.\n",
            "Namespaces are one honking great idea -- let's do more of those!\n"
          ]
        }
      ]
    }
  ]
}